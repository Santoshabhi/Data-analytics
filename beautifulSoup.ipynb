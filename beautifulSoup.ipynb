{
  "nbformat": 4,
  "nbformat_minor": 0,
  "metadata": {
    "colab": {
      "provenance": []
    },
    "kernelspec": {
      "name": "python3",
      "display_name": "Python 3"
    },
    "language_info": {
      "name": "python"
    }
  },
  "cells": [
    {
      "cell_type": "code",
      "execution_count": 995,
      "metadata": {
        "colab": {
          "base_uri": "https://localhost:8080/"
        },
        "id": "5UcmqvEU-2Ax",
        "outputId": "7538eec5-f8ec-4797-d7df-a66851a63e4d"
      },
      "outputs": [
        {
          "output_type": "stream",
          "name": "stdout",
          "text": [
            "Requirement already satisfied: bs4 in /usr/local/lib/python3.11/dist-packages (0.0.2)\n",
            "Requirement already satisfied: beautifulsoup4 in /usr/local/lib/python3.11/dist-packages (from bs4) (4.13.1)\n",
            "Requirement already satisfied: soupsieve>1.2 in /usr/local/lib/python3.11/dist-packages (from beautifulsoup4->bs4) (2.6)\n",
            "Requirement already satisfied: typing-extensions>=4.0.0 in /usr/local/lib/python3.11/dist-packages (from beautifulsoup4->bs4) (4.12.2)\n"
          ]
        }
      ],
      "source": [
        "!pip install bs4"
      ]
    },
    {
      "cell_type": "code",
      "source": [
        "from bs4 import BeautifulSoup\n",
        "\n",
        "# Sample HTML document\n",
        "html_doc = \"\"\"\n",
        "<html>\n",
        "<head><title>World's Population</title></head>\n",
        "<body>\n",
        "    <h1>Main Heading</h1>\n",
        "    <p class=\"xyz\">This is a paragraph.</p>\n",
        "    <p class=\"content\">Another paragraph with <a href=\"https://example.com\">a link</a>.</p>\n",
        "\n",
        "    <div id=\"container\">\n",
        "        <ul>\n",
        "            <li class=\"item\">Item 1</li>\n",
        "            <li class=\"item\">Item 2</li>\n",
        "            <li class=\"item\">Item 3</li>\n",
        "        </ul>\n",
        "    </div>\n",
        "\n",
        "    <table>\n",
        "        <tr><th>Name</th><th>Age</th></tr>\n",
        "        <tr><td>Alice</td><td>25</td></tr>\n",
        "        <tr><td>Bob</td><td>30</td></tr>\n",
        "    </table>\n",
        "</body>\n",
        "</html>\n",
        "\"\"\""
      ],
      "metadata": {
        "id": "6wmp5T12-_Ir"
      },
      "execution_count": 996,
      "outputs": []
    },
    {
      "cell_type": "code",
      "source": [
        "soup = BeautifulSoup(html_doc, \"html.parser\")\n",
        "print(soup)"
      ],
      "metadata": {
        "colab": {
          "base_uri": "https://localhost:8080/"
        },
        "id": "93mDQARl_IL-",
        "outputId": "305a1878-1cc0-4316-df98-d9212493cb7c"
      },
      "execution_count": 997,
      "outputs": [
        {
          "output_type": "stream",
          "name": "stdout",
          "text": [
            "\n",
            "<html>\n",
            "<head><title>World's Population</title></head>\n",
            "<body>\n",
            "<h1>Main Heading</h1>\n",
            "<p class=\"xyz\">This is a paragraph.</p>\n",
            "<p class=\"content\">Another paragraph with <a href=\"https://example.com\">a link</a>.</p>\n",
            "<div id=\"container\">\n",
            "<ul>\n",
            "<li class=\"item\">Item 1</li>\n",
            "<li class=\"item\">Item 2</li>\n",
            "<li class=\"item\">Item 3</li>\n",
            "</ul>\n",
            "</div>\n",
            "<table>\n",
            "<tr><th>Name</th><th>Age</th></tr>\n",
            "<tr><td>Alice</td><td>25</td></tr>\n",
            "<tr><td>Bob</td><td>30</td></tr>\n",
            "</table>\n",
            "</body>\n",
            "</html>\n",
            "\n"
          ]
        }
      ]
    },
    {
      "cell_type": "code",
      "source": [
        "print(\"Page Title:\", soup.body.text)"
      ],
      "metadata": {
        "colab": {
          "base_uri": "https://localhost:8080/"
        },
        "id": "cZEzEDBj_P5o",
        "outputId": "e0b80ba0-be6f-4e83-bc1e-7ed0ee0c5cdd"
      },
      "execution_count": 998,
      "outputs": [
        {
          "output_type": "stream",
          "name": "stdout",
          "text": [
            "Page Title: \n",
            "Main Heading\n",
            "This is a paragraph.\n",
            "Another paragraph with a link.\n",
            "\n",
            "\n",
            "Item 1\n",
            "Item 2\n",
            "Item 3\n",
            "\n",
            "\n",
            "\n",
            "NameAge\n",
            "Alice25\n",
            "Bob30\n",
            "\n",
            "\n"
          ]
        }
      ]
    },
    {
      "cell_type": "code",
      "source": [
        "x = BeautifulSoup(\"<html><body><span>This is first</span><p>This is second</p></body></html>\",\"html.parser\")\n",
        "print(\"\\nPrettified HTML:\")\n",
        "print(x.prettify())"
      ],
      "metadata": {
        "colab": {
          "base_uri": "https://localhost:8080/"
        },
        "id": "XarnAF5U_lwx",
        "outputId": "e0b950be-8737-4287-f99e-16d845af7267"
      },
      "execution_count": 999,
      "outputs": [
        {
          "output_type": "stream",
          "name": "stdout",
          "text": [
            "\n",
            "Prettified HTML:\n",
            "<html>\n",
            " <body>\n",
            "  <span>\n",
            "   This is first\n",
            "  </span>\n",
            "  <p>\n",
            "   This is second\n",
            "  </p>\n",
            " </body>\n",
            "</html>\n",
            "\n"
          ]
        }
      ]
    },
    {
      "cell_type": "code",
      "source": [
        "print(\"\\nFind first paragraph:\",( soup.find(\"p\").text) ) # First <p> tag\n",
        "print(\"Find all paragraphs:\", soup.find_all(\"p\"))  # All <p> tags\n",
        "x = []\n",
        "for i in soup.find_all(\"p\"):\n",
        "  x.append(i.text)\n",
        "print(x)"
      ],
      "metadata": {
        "colab": {
          "base_uri": "https://localhost:8080/"
        },
        "id": "jjwywpw0_tSz",
        "outputId": "badec431-9f95-4133-ea6b-441b3f70a5b9"
      },
      "execution_count": 1000,
      "outputs": [
        {
          "output_type": "stream",
          "name": "stdout",
          "text": [
            "\n",
            "Find first paragraph: This is a paragraph.\n",
            "Find all paragraphs: [<p class=\"xyz\">This is a paragraph.</p>, <p class=\"content\">Another paragraph with <a href=\"https://example.com\">a link</a>.</p>]\n",
            "['This is a paragraph.', 'Another paragraph with a link.']\n"
          ]
        }
      ]
    },
    {
      "cell_type": "code",
      "source": [
        "print(\"\\nUsing CSS Selectors:\")\n",
        "print(soup.select(\"p\")[0].text)  # Select by tag name\n",
        "print(soup.select(\".xyz\")[0].text)  # Select by class\n",
        "print(soup.select(\"#container ul li\")[1].text)"
      ],
      "metadata": {
        "colab": {
          "base_uri": "https://localhost:8080/"
        },
        "id": "Bo4FniAO_yBJ",
        "outputId": "599a8896-6f47-4299-d386-49ef2c18d48f"
      },
      "execution_count": 1001,
      "outputs": [
        {
          "output_type": "stream",
          "name": "stdout",
          "text": [
            "\n",
            "Using CSS Selectors:\n",
            "This is a paragraph.\n",
            "This is a paragraph.\n",
            "Item 2\n"
          ]
        }
      ]
    },
    {
      "cell_type": "code",
      "source": [
        "print(\"\\nNavigating the DOM:\")\n",
        "print(soup.body.h1.text)  # First <h1> tag inside <body>\n",
        "print(soup.body.div.ul.li.text)"
      ],
      "metadata": {
        "colab": {
          "base_uri": "https://localhost:8080/"
        },
        "id": "d7fha8lP_12t",
        "outputId": "79b2bb1a-6ae8-4d1c-d8f8-fe3a3f0b6257"
      },
      "execution_count": 1002,
      "outputs": [
        {
          "output_type": "stream",
          "name": "stdout",
          "text": [
            "\n",
            "Navigating the DOM:\n",
            "Main Heading\n",
            "Item 1\n"
          ]
        }
      ]
    },
    {
      "cell_type": "code",
      "source": [
        "link = soup.find(\"a\")\n",
        "print(link.text)\n",
        "print(\"\\nExtracting Attributes:\")\n",
        "print(\"Link URL:\", link[\"href\"])"
      ],
      "metadata": {
        "colab": {
          "base_uri": "https://localhost:8080/"
        },
        "id": "opcsNtFz_5oI",
        "outputId": "effc3d38-4b6d-4e92-a469-4f1b58b2fd42"
      },
      "execution_count": 1003,
      "outputs": [
        {
          "output_type": "stream",
          "name": "stdout",
          "text": [
            "a link\n",
            "\n",
            "Extracting Attributes:\n",
            "Link URL: https://example.com\n"
          ]
        }
      ]
    },
    {
      "cell_type": "code",
      "source": [
        "print(\"\\nModifying HTML:\")\n",
        "soup.find(\"h1\").string = \"Updated Heading\"\n",
        "print(soup.h1.text)"
      ],
      "metadata": {
        "colab": {
          "base_uri": "https://localhost:8080/"
        },
        "id": "IgpxlpdJ_70W",
        "outputId": "51892021-2140-479d-df00-fc35ca5be523"
      },
      "execution_count": 1004,
      "outputs": [
        {
          "output_type": "stream",
          "name": "stdout",
          "text": [
            "\n",
            "Modifying HTML:\n",
            "Updated Heading\n"
          ]
        }
      ]
    },
    {
      "cell_type": "code",
      "source": [
        "print(\"\\nExtracting All Text from Page:\")\n",
        "print(soup.get_text(separator='|'))"
      ],
      "metadata": {
        "colab": {
          "base_uri": "https://localhost:8080/"
        },
        "id": "mXSiRvE0_-jo",
        "outputId": "ea04c9fb-0055-47e6-a5ee-da6dc7db9d4c"
      },
      "execution_count": 1005,
      "outputs": [
        {
          "output_type": "stream",
          "name": "stdout",
          "text": [
            "\n",
            "Extracting All Text from Page:\n",
            "\n",
            "|\n",
            "|World's Population|\n",
            "|\n",
            "|Updated Heading|\n",
            "|This is a paragraph.|\n",
            "|Another paragraph with |a link|.|\n",
            "|\n",
            "|\n",
            "|Item 1|\n",
            "|Item 2|\n",
            "|Item 3|\n",
            "|\n",
            "|\n",
            "|\n",
            "|Name|Age|\n",
            "|Alice|25|\n",
            "|Bob|30|\n",
            "|\n",
            "|\n",
            "|\n",
            "\n"
          ]
        }
      ]
    },
    {
      "cell_type": "code",
      "source": [
        "soup.find(\"h1\").decompose()  # Remove <h1> tag\n",
        "print(\"\\nAfter Removing h1:\", soup)"
      ],
      "metadata": {
        "colab": {
          "base_uri": "https://localhost:8080/"
        },
        "id": "lr6ND9WEACTa",
        "outputId": "cea70379-ac5f-409d-9d8a-f37bc777946f"
      },
      "execution_count": 1006,
      "outputs": [
        {
          "output_type": "stream",
          "name": "stdout",
          "text": [
            "\n",
            "After Removing h1: \n",
            "<html>\n",
            "<head><title>World's Population</title></head>\n",
            "<body>\n",
            "\n",
            "<p class=\"xyz\">This is a paragraph.</p>\n",
            "<p class=\"content\">Another paragraph with <a href=\"https://example.com\">a link</a>.</p>\n",
            "<div id=\"container\">\n",
            "<ul>\n",
            "<li class=\"item\">Item 1</li>\n",
            "<li class=\"item\">Item 2</li>\n",
            "<li class=\"item\">Item 3</li>\n",
            "</ul>\n",
            "</div>\n",
            "<table>\n",
            "<tr><th>Name</th><th>Age</th></tr>\n",
            "<tr><td>Alice</td><td>25</td></tr>\n",
            "<tr><td>Bob</td><td>30</td></tr>\n",
            "</table>\n",
            "</body>\n",
            "</html>\n",
            "\n"
          ]
        }
      ]
    },
    {
      "cell_type": "code",
      "source": [
        "table1 = soup.find(\"table\")\n",
        "rows = table1.find_all(\"tr\")\n",
        "print(\"\\nTable Data:\")\n",
        "for row in rows:\n",
        "   cols = row.find_all(\"td\")\n",
        "   print(row.text.split())\n",
        "   if cols:\n",
        "        print(f\"Name: {cols[0].text}, Age: {cols[1].text}\")"
      ],
      "metadata": {
        "colab": {
          "base_uri": "https://localhost:8080/"
        },
        "id": "9Xxgb-nWAFVg",
        "outputId": "8e58b810-55f8-46b6-a2df-4fecc3c3c7e6"
      },
      "execution_count": 1007,
      "outputs": [
        {
          "output_type": "stream",
          "name": "stdout",
          "text": [
            "\n",
            "Table Data:\n",
            "['NameAge']\n",
            "['Alice25']\n",
            "Name: Alice, Age: 25\n",
            "['Bob30']\n",
            "Name: Bob, Age: 30\n"
          ]
        }
      ]
    },
    {
      "cell_type": "code",
      "source": [
        "x='<html><th>Location</th><th>Population</th></html>'"
      ],
      "metadata": {
        "id": "372lG4UqAIow"
      },
      "execution_count": 1008,
      "outputs": []
    },
    {
      "cell_type": "code",
      "source": [
        "x"
      ],
      "metadata": {
        "colab": {
          "base_uri": "https://localhost:8080/",
          "height": 35
        },
        "id": "4xCO0GsCAKbx",
        "outputId": "370314dd-3fe8-4016-bbcd-c1faf3925142"
      },
      "execution_count": 1009,
      "outputs": [
        {
          "output_type": "execute_result",
          "data": {
            "text/plain": [
              "'<html><th>Location</th><th>Population</th></html>'"
            ],
            "application/vnd.google.colaboratory.intrinsic+json": {
              "type": "string"
            }
          },
          "metadata": {},
          "execution_count": 1009
        }
      ]
    },
    {
      "cell_type": "code",
      "source": [
        "print(type(x))"
      ],
      "metadata": {
        "colab": {
          "base_uri": "https://localhost:8080/"
        },
        "id": "u64T_-a1AN6c",
        "outputId": "4d9c43b0-e341-4840-d37f-823145d96027"
      },
      "execution_count": 1010,
      "outputs": [
        {
          "output_type": "stream",
          "name": "stdout",
          "text": [
            "<class 'str'>\n"
          ]
        }
      ]
    },
    {
      "cell_type": "code",
      "source": [
        "from bs4 import BeautifulSoup"
      ],
      "metadata": {
        "id": "OZ4t6gV3A1ek"
      },
      "execution_count": 1011,
      "outputs": []
    },
    {
      "cell_type": "code",
      "source": [
        "soup=BeautifulSoup(x)\n",
        "print(soup)\n",
        "print(type(soup))"
      ],
      "metadata": {
        "colab": {
          "base_uri": "https://localhost:8080/"
        },
        "id": "WZ0cx3uyASfB",
        "outputId": "0b03a742-0b6c-4585-adc6-1c4e10e18eba"
      },
      "execution_count": 1012,
      "outputs": [
        {
          "output_type": "stream",
          "name": "stdout",
          "text": [
            "<html><body><th>Location</th><th>Population</th></body></html>\n",
            "<class 'bs4.BeautifulSoup'>\n"
          ]
        }
      ]
    },
    {
      "cell_type": "code",
      "source": [
        "firstfind = soup.find('th')\n",
        "print(firstfind)\n",
        "print(type(firstfind))\n",
        "print(firstfind.text)\n",
        "print(type(firstfind.text))"
      ],
      "metadata": {
        "colab": {
          "base_uri": "https://localhost:8080/"
        },
        "id": "ivdic-AmAWrf",
        "outputId": "61dc68be-ec55-4b4a-f3ff-ffd7c832f6b1"
      },
      "execution_count": 1013,
      "outputs": [
        {
          "output_type": "stream",
          "name": "stdout",
          "text": [
            "<th>Location</th>\n",
            "<class 'bs4.element.Tag'>\n",
            "Location\n",
            "<class 'str'>\n"
          ]
        }
      ]
    },
    {
      "cell_type": "code",
      "source": [
        "allfind=soup.find_all('th')\n",
        "print(allfind)\n",
        "print(type(allfind))"
      ],
      "metadata": {
        "colab": {
          "base_uri": "https://localhost:8080/"
        },
        "id": "3c-M4esYA5-B",
        "outputId": "77dcaa79-5d96-458b-c0df-ecbdb9827575"
      },
      "execution_count": 1014,
      "outputs": [
        {
          "output_type": "stream",
          "name": "stdout",
          "text": [
            "[<th>Location</th>, <th>Population</th>]\n",
            "<class 'bs4.element.ResultSet'>\n"
          ]
        }
      ]
    },
    {
      "cell_type": "code",
      "source": [
        "for i in allfind:\n",
        "  print(i)"
      ],
      "metadata": {
        "colab": {
          "base_uri": "https://localhost:8080/"
        },
        "id": "r7KFeDbCBCZy",
        "outputId": "39b8b9d1-c093-42c6-8609-1a323c329182"
      },
      "execution_count": 1015,
      "outputs": [
        {
          "output_type": "stream",
          "name": "stdout",
          "text": [
            "<th>Location</th>\n",
            "<th>Population</th>\n"
          ]
        }
      ]
    },
    {
      "cell_type": "code",
      "source": [
        "for i in allfind:\n",
        "  print(i.text)"
      ],
      "metadata": {
        "colab": {
          "base_uri": "https://localhost:8080/"
        },
        "id": "dOn9BUQ1BG2Q",
        "outputId": "3448a768-ca87-4fe5-f35a-d0f2cba8cfa4"
      },
      "execution_count": 1016,
      "outputs": [
        {
          "output_type": "stream",
          "name": "stdout",
          "text": [
            "Location\n",
            "Population\n"
          ]
        }
      ]
    },
    {
      "cell_type": "code",
      "source": [
        "headers=[]\n",
        "for i in allfind:\n",
        "  headers.append(i.text)\n",
        "\n",
        "headers"
      ],
      "metadata": {
        "colab": {
          "base_uri": "https://localhost:8080/"
        },
        "id": "ZKway52eBOo-",
        "outputId": "34c01c7f-2d01-42da-8aa2-d78309a5cbeb"
      },
      "execution_count": 1017,
      "outputs": [
        {
          "output_type": "execute_result",
          "data": {
            "text/plain": [
              "['Location', 'Population']"
            ]
          },
          "metadata": {},
          "execution_count": 1017
        }
      ]
    },
    {
      "cell_type": "code",
      "source": [
        "headers = [i.text for i in allfind]\n",
        "headers"
      ],
      "metadata": {
        "colab": {
          "base_uri": "https://localhost:8080/"
        },
        "id": "0PLv9XIeAZs7",
        "outputId": "39371ad0-4bc2-479a-ee59-7187b909a348"
      },
      "execution_count": 1018,
      "outputs": [
        {
          "output_type": "execute_result",
          "data": {
            "text/plain": [
              "['Location', 'Population']"
            ]
          },
          "metadata": {},
          "execution_count": 1018
        }
      ]
    },
    {
      "cell_type": "code",
      "source": [
        "### Question 1\n",
        "\n",
        "from bs4 import BeautifulSoup\n",
        "\n",
        "html_doc = \"<html><body><h1>Hello, World!</h1></body></html>\"\n",
        "### Question 1\n",
        "\n",
        "from bs4 import BeautifulSoup\n",
        "\n",
        "html_doc = \"<html><body><h1>Hello, World!</h1></body></html>\"\n",
        "soup = BeautifulSoup(html_doc, \"html.parser\")\n",
        "print(soup.h1.text)\n",
        "# Options:\n",
        "# A')' <h1>Hello, World!</h1>\n",
        "# B')' Hello, World!\n",
        "### Question 1\n",
        "\n",
        "from bs4 import BeautifulSoup\n",
        "\n",
        "html_doc = \"<html><body><h1>Hello, World!</h1></body></html>\"\n",
        "soup = BeautifulSoup(html_doc, \"html.parser\")\n",
        "print(soup.h1.text)\n",
        "# Options:\n",
        "# A')' <h1>Hello, World!</h1>\n",
        "# B')' Hello, World!\n",
        "# C')' None\n",
        "# D')' Error: AttributeError\n",
        "#C')' None\n",
        "#D')' Error: AttributeError"
      ],
      "metadata": {
        "colab": {
          "base_uri": "https://localhost:8080/"
        },
        "id": "6avikhT7Ac1y",
        "outputId": "97db4291-6160-42d7-fc10-0979cfeec4df"
      },
      "execution_count": 1019,
      "outputs": [
        {
          "output_type": "stream",
          "name": "stdout",
          "text": [
            "Hello, World!\n",
            "Hello, World!\n"
          ]
        }
      ]
    },
    {
      "cell_type": "code",
      "source": [
        "print(\"Correct Answer: B) Hello, World!\")"
      ],
      "metadata": {
        "colab": {
          "base_uri": "https://localhost:8080/"
        },
        "id": "5h6XqC6mCTap",
        "outputId": "44439267-30cb-40b8-d407-fc9674d01825"
      },
      "execution_count": 1020,
      "outputs": [
        {
          "output_type": "stream",
          "name": "stdout",
          "text": [
            "Correct Answer: B) Hello, World!\n"
          ]
        }
      ]
    },
    {
      "cell_type": "code",
      "source": [
        "### Question 2\n",
        "from bs4 import BeautifulSoup\n",
        "\n",
        "html_doc = \"<html><body><p class='info'>Python</p><p>Beautiful Soup</p></body></html>\"\n",
        "soup = BeautifulSoup(html_doc, \"html.parser\")\n",
        "print(soup.find('p').text)\n",
        "#**Options:**\n",
        "#A) Python\n",
        "#B) Beautiful Soup\n",
        "#C) <p class='info'>Python</p>\n",
        "#D) None"
      ],
      "metadata": {
        "colab": {
          "base_uri": "https://localhost:8080/"
        },
        "id": "-TqWg-xGCxNS",
        "outputId": "39d111d8-8643-4591-dd54-8e98a3bd9eca"
      },
      "execution_count": 1021,
      "outputs": [
        {
          "output_type": "stream",
          "name": "stdout",
          "text": [
            "Python\n"
          ]
        }
      ]
    },
    {
      "cell_type": "code",
      "source": [
        "# Correct Answer\n",
        "print(\"Correct Answer: A) Python\")"
      ],
      "metadata": {
        "colab": {
          "base_uri": "https://localhost:8080/"
        },
        "id": "U0NXwsXDDIRo",
        "outputId": "1cf8ce4b-9309-4b7e-9633-f0e0ddfbb50f"
      },
      "execution_count": 1022,
      "outputs": [
        {
          "output_type": "stream",
          "name": "stdout",
          "text": [
            "Correct Answer: A) Python\n"
          ]
        }
      ]
    },
    {
      "cell_type": "code",
      "source": [
        "### Question 3\n",
        "\n",
        "from bs4 import BeautifulSoup\n",
        "\n",
        "html_doc = \"\"\"\n",
        "<html>\n",
        "  <body>\n",
        "    <p class='content'>Paragraph 1</p>\n",
        "    <p>Paragraph 2</p>\n",
        "    <p class='content'>Paragraph 3</p>\n",
        "  </body>\n",
        "</html>\n",
        "\"\"\"\n",
        "soup = BeautifulSoup(html_doc, \"html.parser\")\n",
        "result = soup.find_all('p', class_='content')\n",
        "for item in result:\n",
        "    print(item.text)\n",
        "#**Options:**\n",
        "#A) Paragraph 1\n",
        "#B) Paragraph 1 and Paragraph 3\n",
        "#C) Paragraph 2\n",
        "#D) None"
      ],
      "metadata": {
        "colab": {
          "base_uri": "https://localhost:8080/"
        },
        "id": "KvKGqd6fDNXQ",
        "outputId": "8875de9b-e3be-400e-ef90-3d11ab8fe16b"
      },
      "execution_count": 1023,
      "outputs": [
        {
          "output_type": "stream",
          "name": "stdout",
          "text": [
            "Paragraph 1\n",
            "Paragraph 3\n"
          ]
        }
      ]
    },
    {
      "cell_type": "code",
      "source": [
        "print(\"Correct Answer: B) Paragraph 1 and Paragraph 3\")"
      ],
      "metadata": {
        "colab": {
          "base_uri": "https://localhost:8080/"
        },
        "id": "ZzJ8p4jWDagY",
        "outputId": "114a1ee7-8612-4ec5-c528-3434ec3f4bc1"
      },
      "execution_count": 1024,
      "outputs": [
        {
          "output_type": "stream",
          "name": "stdout",
          "text": [
            "Correct Answer: B) Paragraph 1 and Paragraph 3\n"
          ]
        }
      ]
    },
    {
      "cell_type": "code",
      "source": [
        "### Question 4\n",
        "\n",
        "\n",
        "from bs4 import BeautifulSoup\n",
        "\n",
        "html_doc = \"<html><a href='https://example.com'>Visit Example</a></html>\"\n",
        "soup = BeautifulSoup(html_doc, \"html.parser\")\n",
        "print(soup.a['href'])\n",
        "#**Options:**\n",
        "#A) https://example.com\n",
        "#B) Visit Example\n",
        "#C) <a href='https://example.com'>Visit Example</a>\n",
        "#D) None"
      ],
      "metadata": {
        "colab": {
          "base_uri": "https://localhost:8080/"
        },
        "id": "cOiCmH6ODgp0",
        "outputId": "4089018c-97ab-40d7-ae18-14d1cc180136"
      },
      "execution_count": 1025,
      "outputs": [
        {
          "output_type": "stream",
          "name": "stdout",
          "text": [
            "https://example.com\n"
          ]
        }
      ]
    },
    {
      "cell_type": "code",
      "source": [
        "print(\"Correct Answer: A) https://example.com\")"
      ],
      "metadata": {
        "colab": {
          "base_uri": "https://localhost:8080/"
        },
        "id": "J4oPGLe_EFrF",
        "outputId": "a7bc9f42-705b-4f67-c006-aa7bb21f4167"
      },
      "execution_count": 1026,
      "outputs": [
        {
          "output_type": "stream",
          "name": "stdout",
          "text": [
            "Correct Answer: A) https://example.com\n"
          ]
        }
      ]
    },
    {
      "cell_type": "code",
      "source": [
        "### Question 5\n",
        "\n",
        "\n",
        "from bs4 import BeautifulSoup\n",
        "\n",
        "html_doc = \"\"\"\n",
        "<html>\n",
        "  <body>\n",
        "    <div>\n",
        "      <h1>Title</h1>\n",
        "      <p>Description</p>\n",
        "    </div>\n",
        "  </body>\n",
        "</html>\n",
        "\"\"\"\n",
        "soup = BeautifulSoup(html_doc, \"html.parser\")\n",
        "print(soup.div.h1.text)\n",
        "#**Options:**\n",
        "#A) Title\n",
        "#B) Description\n",
        "#C) <h1>Title</h1>\n",
        "#D) None\n"
      ],
      "metadata": {
        "colab": {
          "base_uri": "https://localhost:8080/"
        },
        "id": "yWwD-gP-EJKw",
        "outputId": "0fd85ee0-3987-4173-cfd2-4cc82086faf7"
      },
      "execution_count": 1027,
      "outputs": [
        {
          "output_type": "stream",
          "name": "stdout",
          "text": [
            "Title\n"
          ]
        }
      ]
    },
    {
      "cell_type": "code",
      "source": [
        "print(\"Correct Answer: A) Title\")"
      ],
      "metadata": {
        "colab": {
          "base_uri": "https://localhost:8080/"
        },
        "id": "XlnxQkkkEXQS",
        "outputId": "6a050bef-ea88-40f3-9622-cfa972bdd603"
      },
      "execution_count": 1028,
      "outputs": [
        {
          "output_type": "stream",
          "name": "stdout",
          "text": [
            "Correct Answer: A) Title\n"
          ]
        }
      ]
    },
    {
      "cell_type": "code",
      "source": [
        "### Question 6\n",
        "\n",
        "from bs4 import BeautifulSoup\n",
        "\n",
        "html_doc = \"\"\"\n",
        "<html>\n",
        "  <body>\n",
        "    <ul>\n",
        "      <li>Item 1</li>\n",
        "      <li>Item 2</li>\n",
        "      <li>Item 3</li>\n",
        "    </ul>\n",
        "  </body>\n",
        "</html>\n",
        "\"\"\"\n",
        "soup = BeautifulSoup(html_doc, \"html.parser\")\n",
        "items = soup.find_all('li')\n",
        "print(len(items))\n",
        "#**Options:**\n",
        "#A) 1\n",
        "#B) 2\n",
        "#C) 3\n",
        "#D) 0\n",
        "\n",
        "\n"
      ],
      "metadata": {
        "colab": {
          "base_uri": "https://localhost:8080/"
        },
        "id": "NjPrWqK7EYcy",
        "outputId": "b4e6541e-d401-43bf-9fc7-2ae34cc8f08f"
      },
      "execution_count": 1029,
      "outputs": [
        {
          "output_type": "stream",
          "name": "stdout",
          "text": [
            "3\n"
          ]
        }
      ]
    },
    {
      "cell_type": "code",
      "source": [
        "print(\"Correct Answer: C) 3\")"
      ],
      "metadata": {
        "colab": {
          "base_uri": "https://localhost:8080/"
        },
        "id": "bpuVjyE4EmQN",
        "outputId": "a3ead38f-3954-4230-f1b4-4c3d44bd2f7f"
      },
      "execution_count": 1030,
      "outputs": [
        {
          "output_type": "stream",
          "name": "stdout",
          "text": [
            "Correct Answer: C) 3\n"
          ]
        }
      ]
    },
    {
      "cell_type": "code",
      "source": [
        "### Question 7\n",
        "\n",
        "\n",
        "from bs4 import BeautifulSoup\n",
        "\n",
        "html_doc = \"\"\"\n",
        "<html>\n",
        "  <body>\n",
        "    <div id=\"main\">\n",
        "      <p class=\"text\">First</p>\n",
        "      <p class=\"text\">Second</p>\n",
        "    </div>\n",
        "  </body>\n",
        "</html>\n",
        "\"\"\"\n",
        "soup = BeautifulSoup(html_doc, \"html.parser\")\n",
        "result = soup.select('#main .text')\n",
        "for item in result:\n",
        "    print(item.text)\n",
        "#**Options:**\n",
        "#A) First\n",
        "#B) First and Second\n",
        "#C) Second\n",
        "#D) None"
      ],
      "metadata": {
        "colab": {
          "base_uri": "https://localhost:8080/"
        },
        "id": "PDEQL7ShEm7K",
        "outputId": "f4fe891e-af47-4394-88c4-1838deba54bf"
      },
      "execution_count": 1031,
      "outputs": [
        {
          "output_type": "stream",
          "name": "stdout",
          "text": [
            "First\n",
            "Second\n"
          ]
        }
      ]
    },
    {
      "cell_type": "code",
      "source": [
        "print(\"Correct Answer: B) First and Second\")"
      ],
      "metadata": {
        "colab": {
          "base_uri": "https://localhost:8080/"
        },
        "id": "f4GmyjfoEsNt",
        "outputId": "d0d4d37d-631d-4a16-eeae-5dba29d0a477"
      },
      "execution_count": 1032,
      "outputs": [
        {
          "output_type": "stream",
          "name": "stdout",
          "text": [
            "Correct Answer: B) First and Second\n"
          ]
        }
      ]
    },
    {
      "cell_type": "code",
      "source": [
        "### Question 8\n",
        "\n",
        "from bs4 import BeautifulSoup\n",
        "\n",
        "html_doc = \"<html><body><h1>Hello</h1><p>World</p></body></html>\"\n",
        "soup = BeautifulSoup(html_doc, \"html.parser\")\n",
        "print(soup.get_text())\n",
        "#**Options:**\n",
        "#A) Hello World\n",
        "#B) Hello\\nWorld\n",
        "#C) <h1>Hello</h1><p>World</p>\n",
        "#D) None"
      ],
      "metadata": {
        "colab": {
          "base_uri": "https://localhost:8080/"
        },
        "id": "4XaMeCaFE3nq",
        "outputId": "8055ad19-8633-4eee-cefb-31f1314ade71"
      },
      "execution_count": 1033,
      "outputs": [
        {
          "output_type": "stream",
          "name": "stdout",
          "text": [
            "HelloWorld\n"
          ]
        }
      ]
    },
    {
      "cell_type": "code",
      "source": [
        "print(\"Correct Answer: B) Hello\\nWorld\")"
      ],
      "metadata": {
        "colab": {
          "base_uri": "https://localhost:8080/"
        },
        "id": "aNjqYKn8FD60",
        "outputId": "60793c0d-ddb0-4db3-8e38-d4bfa99cf218"
      },
      "execution_count": 1034,
      "outputs": [
        {
          "output_type": "stream",
          "name": "stdout",
          "text": [
            "Correct Answer: B) Hello\n",
            "World\n"
          ]
        }
      ]
    },
    {
      "cell_type": "code",
      "source": [
        "### Question 9\n",
        "\n",
        "\n",
        "from bs4 import BeautifulSoup\n",
        "\n",
        "html_doc = \"\"\"\n",
        "<html>\n",
        "  <body>\n",
        "    <img src=\"image1.png\" alt=\"First Image\">\n",
        "    <img src=\"image2.png\" alt=\"Second Image\">\n",
        "  </body>\n",
        "</html>\n",
        "\"\"\"\n",
        "soup = BeautifulSoup(html_doc, \"html.parser\")\n",
        "image = soup.find('img', alt='Second Image')\n",
        "print(image['src'])\n",
        "#**Options:**\n",
        "#A) image1.png\n",
        "#B) image2.png\n",
        "#C) <img src='image2.png' alt='Second Image'>\n",
        "#D) None"
      ],
      "metadata": {
        "colab": {
          "base_uri": "https://localhost:8080/"
        },
        "id": "RCsVGdAgFECC",
        "outputId": "bfd83f06-0619-4a3f-ccad-cc4eba8073d5"
      },
      "execution_count": 1035,
      "outputs": [
        {
          "output_type": "stream",
          "name": "stdout",
          "text": [
            "image2.png\n"
          ]
        }
      ]
    },
    {
      "cell_type": "code",
      "source": [
        "print(\"Correct Answer: B) image2.png\")"
      ],
      "metadata": {
        "colab": {
          "base_uri": "https://localhost:8080/"
        },
        "id": "qRdz6ezxFPLW",
        "outputId": "733311a8-ef52-4c17-a026-a47f1712bc8a"
      },
      "execution_count": 1036,
      "outputs": [
        {
          "output_type": "stream",
          "name": "stdout",
          "text": [
            "Correct Answer: B) image2.png\n"
          ]
        }
      ]
    },
    {
      "cell_type": "code",
      "source": [
        "### Question 10\n",
        "\n",
        "from bs4 import BeautifulSoup\n",
        "\n",
        "html_doc = \"\"\"\n",
        "<html>\n",
        "  <body>\n",
        "    <p class=\"info detail\">Content 1</p>\n",
        "    <p class=\"info\">Content 2</p>\n",
        "  </body>\n",
        "</html>\n",
        "\"\"\"\n",
        "soup = BeautifulSoup(html_doc, \"html.parser\")\n",
        "result = soup.find_all('p', class_='info')\n",
        "for item in result:\n",
        "    print(item.text)\n",
        "#**Options:**\n",
        "#A) Content 1\n",
        "#B) Content 2\n",
        "#C) Content 1 and Content 2\n",
        "#D) None\n"
      ],
      "metadata": {
        "colab": {
          "base_uri": "https://localhost:8080/"
        },
        "id": "ZGzgLrS8FPR8",
        "outputId": "56f3aa4d-90bc-4c70-b2fb-a1a75aec3f7b"
      },
      "execution_count": 1037,
      "outputs": [
        {
          "output_type": "stream",
          "name": "stdout",
          "text": [
            "Content 1\n",
            "Content 2\n"
          ]
        }
      ]
    },
    {
      "cell_type": "code",
      "source": [
        "print(\"Correct Answer: C) Content 1 and Content 2\")"
      ],
      "metadata": {
        "colab": {
          "base_uri": "https://localhost:8080/"
        },
        "id": "EpExp_6VFf3-",
        "outputId": "5c9f0384-2998-49bf-8b5f-c1db0de3afe1"
      },
      "execution_count": 1038,
      "outputs": [
        {
          "output_type": "stream",
          "name": "stdout",
          "text": [
            "Correct Answer: C) Content 1 and Content 2\n"
          ]
        }
      ]
    },
    {
      "cell_type": "code",
      "source": [
        "from bs4 import BeautifulSoup\n",
        "import requests\n",
        "\n",
        "# URL of the webpage you want to scrape (using a real blog URL for example)\n",
        "url = 'https://realpython.com/'\n",
        "\n",
        "# Send an HTTP request to the webpage\n",
        "response = requests.get(url)\n",
        "\n",
        "# Parse the HTML content of the page\n",
        "soup = BeautifulSoup(response.text, 'html.parser')\n",
        "\n",
        "# Extract all the blog post titles (example: assuming titles are in <h2> tags with class 'card-title')\n",
        "titles = soup.find_all('h2', class_='card-title')\n",
        "\n",
        "# Print the extracted titles\n",
        "print(\"Blog Post Titles:\")\n",
        "for i, title in enumerate(titles, 1):\n",
        "    print(f\"{i}. {title.text.strip()}\")"
      ],
      "metadata": {
        "colab": {
          "base_uri": "https://localhost:8080/"
        },
        "id": "zk1w4BDLFf9-",
        "outputId": "be506919-ff30-4ff8-d947-eca9e3c1f8ef"
      },
      "execution_count": 1039,
      "outputs": [
        {
          "output_type": "stream",
          "name": "stdout",
          "text": [
            "Blog Post Titles:\n",
            "1. How to Split a String in Python\n",
            "2. NumPy Techniques and Practical Examples\n",
            "3. Python for Loops: The Pythonic Way\n",
            "4. Build a Dice-Rolling Application With Python\n",
            "5. Top Python Game Engines\n",
            "6. Develop Data Visualization Interfaces in Python With Dash\n",
            "7. Build a Quiz Application With Python\n",
            "8. Build a Tic-Tac-Toe Game With Python and Tkinter\n",
            "9. Python & APIs: A Winning Combo for Reading Public Data\n",
            "10. A Guide to Modern Python String Formatting Tools\n",
            "11. Providing Multiple Constructors in Your Python Classes\n",
            "12. Natural Language Processing With spaCy in Python\n",
            "13. Split Your Dataset With scikit-learn's train_test_split()\n",
            "14. Creating a Scalable Flask Web Application From Scratch\n",
            "15. How to Split a Python List or Iterable Into Chunks\n",
            "16. Lists vs Tuples in Python\n",
            "17. Python Folium: Create Web Maps From Your Data\n",
            "18. Python's \"in\" and \"not in\" Operators: Check for Membership\n",
            "19. Python's zipfile: Manipulate Your ZIP Files Efficiently\n"
          ]
        }
      ]
    }
  ]
}